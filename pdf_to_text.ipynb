{
 "cells": [
  {
   "cell_type": "code",
   "execution_count": 9,
   "metadata": {},
   "outputs": [],
   "source": [
    "# imports and libraries\n",
    "import pdfplumber\n",
    "import re\n",
    "import os\n",
    "from docx import Document"
   ]
  },
  {
   "cell_type": "code",
   "execution_count": 12,
   "metadata": {},
   "outputs": [],
   "source": [
    "# Define text extracting function\n",
    "def extract_text_from_pdf(pdf_path):\n",
    "    \"\"\"\n",
    "    This function will take in a pdf location (pdf_path) and output a word doc containing all the text in the pdf document. \n",
    "    The text will retain as much original formatting as possible. \n",
    "    \"\"\"\n",
    "    doc = Document()\n",
    "\n",
    "    with pdfplumber.open(pdf_path) as pdf:\n",
    "        for page in pdf.pages:\n",
    "            text = page.extract_text(layout = True)\n",
    "            # print(text)\n",
    "            doc.add_paragraph(text)\n",
    "            doc.add_page_break\n",
    "            break\n",
    "    return doc\n"
   ]
  },
  {
   "cell_type": "code",
   "execution_count": 13,
   "metadata": {},
   "outputs": [],
   "source": [
    "# Common execution: path definitions\n",
    "cwd = os.getcwd()\n",
    "\n",
    "input_directory = cwd + '/pdf_files_type1/ARJAS case.pdf'  # Replace with your PDF path\n",
    "output_directory = cwd + '/doc_files/doc1.docx'  # Replace with your output folder path\n",
    "\n",
    "# run function \n",
    "output_doc = extract_text_from_pdf(input_directory)\n",
    "output_doc.save(output_directory)"
   ]
  }
 ],
 "metadata": {
  "kernelspec": {
   "display_name": "base",
   "language": "python",
   "name": "python3"
  },
  "language_info": {
   "codemirror_mode": {
    "name": "ipython",
    "version": 3
   },
   "file_extension": ".py",
   "mimetype": "text/x-python",
   "name": "python",
   "nbconvert_exporter": "python",
   "pygments_lexer": "ipython3",
   "version": "3.9.12"
  },
  "orig_nbformat": 4
 },
 "nbformat": 4,
 "nbformat_minor": 2
}
