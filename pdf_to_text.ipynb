{
 "cells": [
  {
   "cell_type": "code",
   "execution_count": 14,
   "metadata": {},
   "outputs": [],
   "source": [
    "# imports and libraries\n",
    "import pdfplumber\n",
    "import re\n",
    "import os\n",
    "from docx import Document\n",
    "import pytesseract\n",
    "from PIL import Image\n",
    "from docx.shared import Pt\n",
    "\n",
    "# Specify Tesseract executable path (adjust this path according to your installation)\n",
    "# pytesseract.pytesseract.tesseract_cmd = r'C:\\\\Applications\\\\miniconda3\\\\lib\\\\python3.9\\\\site-packages\\\\pytesseract'"
   ]
  },
  {
   "cell_type": "code",
   "execution_count": 2,
   "metadata": {},
   "outputs": [],
   "source": [
    "# Define text extracting function (from pdf)\n",
    "def extract_text_from_pdf(pdf_path):\n",
    "    \"\"\"\n",
    "    This function will take in a pdf location (pdf_path) and output a word doc containing all the text in the pdf document. \n",
    "    The text will retain as much original formatting as possible. \n",
    "    \"\"\"\n",
    "    doc = Document()\n",
    "\n",
    "    with pdfplumber.open(pdf_path) as pdf:\n",
    "        for page in pdf.pages:\n",
    "            text = page.extract_text(layout = True)\n",
    "            # print(text)\n",
    "            doc.add_paragraph(text)\n",
    "            doc.add_page_break\n",
    "            break\n",
    "    return doc\n"
   ]
  },
  {
   "cell_type": "code",
   "execution_count": 31,
   "metadata": {},
   "outputs": [],
   "source": [
    "# Define text extracting function (from scanned img)\n",
    "def extract_text_from_img(pdf_path):\n",
    "    \"\"\"\n",
    "    This function will take in a pdf location (pdf_path) and output a word doc containing all the text in the pdf document. \n",
    "    The text will retain as much original formatting as possible. \n",
    "    \"\"\"\n",
    "    doc = Document()\n",
    "\n",
    "    pages = convert_from_path(pdf_path, 500)\n",
    "\n",
    "    for pageNum,imgBlob in enumerate(pages):\n",
    "        text = pytesseract.image_to_string(imgBlob,lang='eng')\n",
    "        if pageNum < 5:\n",
    "            continue\n",
    "        print(text)\n",
    "        break\n",
    "    return doc"
   ]
  },
  {
   "cell_type": "code",
   "execution_count": 7,
   "metadata": {},
   "outputs": [],
   "source": [
    "# Function to extract text from a PDF page using pdfplumber and pytesseract\n",
    "def extract_text_from_page(page):\n",
    "    # Extract text from the PDF page using pdfplumber\n",
    "    text = page.extract_text(layout = True)\n",
    "    \n",
    "    # If text extraction using pdfplumber fails, attempt OCR using pytesseract\n",
    "    if not text.strip():\n",
    "        # Extract images from the PDF page\n",
    "        images = page.images\n",
    "        \n",
    "        # Iterate through each image, extract text using pytesseract, and concatenate results\n",
    "        for img in images:\n",
    "            img_pil = page.to_image(resolution=300).original  # Convert PDF page to image\n",
    "            # img_pil = im.to_image()  # Convert pdfplumber Image to PIL Image\n",
    "            text += pytesseract.image_to_string(img_pil, lang='eng')\n",
    "    \n",
    "    return text\n",
    "\n",
    "# Function to convert a scanned PDF to images and extract text\n",
    "def convert_scanned_pdf_to_text(pdf_path):\n",
    "    with pdfplumber.open(pdf_path) as pdf:\n",
    "        doc = Document()\n",
    "        \n",
    "        for page in pdf.pages:\n",
    "        \n",
    "            # Extract text from the current page\n",
    "            text = extract_text_from_page(page)\n",
    "            \n",
    "            # Add extracted text to the Word document\n",
    "            doc.add_paragraph(text)\n",
    "            doc.add_page_break\n",
    "        \n",
    "        # Save the Word document\n",
    "        doc.save('extracted_text.docx')"
   ]
  },
  {
   "cell_type": "code",
   "execution_count": 4,
   "metadata": {},
   "outputs": [],
   "source": [
    "# Common execution: path definitions\n",
    "cwd = os.getcwd()\n",
    "\n",
    "input_directory = cwd + '/pdf_files/Notifications_0001.pdf'  # Replace with your PDF path\n",
    "output_directory = cwd + '/doc_files/doc1.docx'  # Replace with your output folder path\n"
   ]
  },
  {
   "cell_type": "code",
   "execution_count": null,
   "metadata": {},
   "outputs": [],
   "source": [
    "# run function for extracting text from pdf\n",
    "output_doc = extract_text_from_pdf(input_directory)\n",
    "output_doc.save(output_directory)"
   ]
  },
  {
   "cell_type": "code",
   "execution_count": 15,
   "metadata": {},
   "outputs": [
    {
     "ename": "TesseractNotFoundError",
     "evalue": "C:\\\\Applications\\\\miniconda3\\\\lib\\\\python3.9\\\\site-packages\\\\pytesseract is not installed or it's not in your PATH. See README file for more information.",
     "output_type": "error",
     "traceback": [
      "\u001b[0;31m---------------------------------------------------------------------------\u001b[0m",
      "\u001b[0;31mFileNotFoundError\u001b[0m                         Traceback (most recent call last)",
      "File \u001b[0;32m/Applications/miniconda3/lib/python3.9/site-packages/pytesseract/pytesseract.py:255\u001b[0m, in \u001b[0;36mrun_tesseract\u001b[0;34m(input_filename, output_filename_base, extension, lang, config, nice, timeout)\u001b[0m\n\u001b[1;32m    254\u001b[0m \u001b[39mtry\u001b[39;00m:\n\u001b[0;32m--> 255\u001b[0m     proc \u001b[39m=\u001b[39m subprocess\u001b[39m.\u001b[39;49mPopen(cmd_args, \u001b[39m*\u001b[39;49m\u001b[39m*\u001b[39;49msubprocess_args())\n\u001b[1;32m    256\u001b[0m \u001b[39mexcept\u001b[39;00m \u001b[39mOSError\u001b[39;00m \u001b[39mas\u001b[39;00m e:\n",
      "File \u001b[0;32m/Applications/miniconda3/lib/python3.9/subprocess.py:951\u001b[0m, in \u001b[0;36mPopen.__init__\u001b[0;34m(self, args, bufsize, executable, stdin, stdout, stderr, preexec_fn, close_fds, shell, cwd, env, universal_newlines, startupinfo, creationflags, restore_signals, start_new_session, pass_fds, user, group, extra_groups, encoding, errors, text, umask)\u001b[0m\n\u001b[1;32m    948\u001b[0m             \u001b[39mself\u001b[39m\u001b[39m.\u001b[39mstderr \u001b[39m=\u001b[39m io\u001b[39m.\u001b[39mTextIOWrapper(\u001b[39mself\u001b[39m\u001b[39m.\u001b[39mstderr,\n\u001b[1;32m    949\u001b[0m                     encoding\u001b[39m=\u001b[39mencoding, errors\u001b[39m=\u001b[39merrors)\n\u001b[0;32m--> 951\u001b[0m     \u001b[39mself\u001b[39;49m\u001b[39m.\u001b[39;49m_execute_child(args, executable, preexec_fn, close_fds,\n\u001b[1;32m    952\u001b[0m                         pass_fds, cwd, env,\n\u001b[1;32m    953\u001b[0m                         startupinfo, creationflags, shell,\n\u001b[1;32m    954\u001b[0m                         p2cread, p2cwrite,\n\u001b[1;32m    955\u001b[0m                         c2pread, c2pwrite,\n\u001b[1;32m    956\u001b[0m                         errread, errwrite,\n\u001b[1;32m    957\u001b[0m                         restore_signals,\n\u001b[1;32m    958\u001b[0m                         gid, gids, uid, umask,\n\u001b[1;32m    959\u001b[0m                         start_new_session)\n\u001b[1;32m    960\u001b[0m \u001b[39mexcept\u001b[39;00m:\n\u001b[1;32m    961\u001b[0m     \u001b[39m# Cleanup if the child failed starting.\u001b[39;00m\n",
      "File \u001b[0;32m/Applications/miniconda3/lib/python3.9/subprocess.py:1821\u001b[0m, in \u001b[0;36mPopen._execute_child\u001b[0;34m(self, args, executable, preexec_fn, close_fds, pass_fds, cwd, env, startupinfo, creationflags, shell, p2cread, p2cwrite, c2pread, c2pwrite, errread, errwrite, restore_signals, gid, gids, uid, umask, start_new_session)\u001b[0m\n\u001b[1;32m   1820\u001b[0m         err_msg \u001b[39m=\u001b[39m os\u001b[39m.\u001b[39mstrerror(errno_num)\n\u001b[0;32m-> 1821\u001b[0m     \u001b[39mraise\u001b[39;00m child_exception_type(errno_num, err_msg, err_filename)\n\u001b[1;32m   1822\u001b[0m \u001b[39mraise\u001b[39;00m child_exception_type(err_msg)\n",
      "\u001b[0;31mFileNotFoundError\u001b[0m: [Errno 2] No such file or directory: 'C:\\\\\\\\Applications\\\\\\\\miniconda3\\\\\\\\lib\\\\\\\\python3.9\\\\\\\\site-packages\\\\\\\\pytesseract'",
      "\nDuring handling of the above exception, another exception occurred:\n",
      "\u001b[0;31mTesseractNotFoundError\u001b[0m                    Traceback (most recent call last)",
      "\u001b[1;32m/Users/nayeshagandotra/Desktop/india-election-stats/pdf_to_text.ipynb Cell 7\u001b[0m in \u001b[0;36m2\n\u001b[1;32m      <a href='vscode-notebook-cell:/Users/nayeshagandotra/Desktop/india-election-stats/pdf_to_text.ipynb#W5sZmlsZQ%3D%3D?line=0'>1</a>\u001b[0m \u001b[39m# run function for extracting text from scanned images\u001b[39;00m\n\u001b[0;32m----> <a href='vscode-notebook-cell:/Users/nayeshagandotra/Desktop/india-election-stats/pdf_to_text.ipynb#W5sZmlsZQ%3D%3D?line=1'>2</a>\u001b[0m convert_scanned_pdf_to_text(input_directory)\n",
      "\u001b[1;32m/Users/nayeshagandotra/Desktop/india-election-stats/pdf_to_text.ipynb Cell 7\u001b[0m in \u001b[0;36m2\n\u001b[1;32m     <a href='vscode-notebook-cell:/Users/nayeshagandotra/Desktop/india-election-stats/pdf_to_text.ipynb#W5sZmlsZQ%3D%3D?line=21'>22</a>\u001b[0m doc \u001b[39m=\u001b[39m Document()\n\u001b[1;32m     <a href='vscode-notebook-cell:/Users/nayeshagandotra/Desktop/india-election-stats/pdf_to_text.ipynb#W5sZmlsZQ%3D%3D?line=23'>24</a>\u001b[0m \u001b[39mfor\u001b[39;00m page \u001b[39min\u001b[39;00m pdf\u001b[39m.\u001b[39mpages:\n\u001b[1;32m     <a href='vscode-notebook-cell:/Users/nayeshagandotra/Desktop/india-election-stats/pdf_to_text.ipynb#W5sZmlsZQ%3D%3D?line=24'>25</a>\u001b[0m \n\u001b[1;32m     <a href='vscode-notebook-cell:/Users/nayeshagandotra/Desktop/india-election-stats/pdf_to_text.ipynb#W5sZmlsZQ%3D%3D?line=25'>26</a>\u001b[0m     \u001b[39m# Extract text from the current page\u001b[39;00m\n\u001b[0;32m---> <a href='vscode-notebook-cell:/Users/nayeshagandotra/Desktop/india-election-stats/pdf_to_text.ipynb#W5sZmlsZQ%3D%3D?line=26'>27</a>\u001b[0m     text \u001b[39m=\u001b[39m extract_text_from_page(page)\n\u001b[1;32m     <a href='vscode-notebook-cell:/Users/nayeshagandotra/Desktop/india-election-stats/pdf_to_text.ipynb#W5sZmlsZQ%3D%3D?line=28'>29</a>\u001b[0m     \u001b[39m# Add extracted text to the Word document\u001b[39;00m\n\u001b[1;32m     <a href='vscode-notebook-cell:/Users/nayeshagandotra/Desktop/india-election-stats/pdf_to_text.ipynb#W5sZmlsZQ%3D%3D?line=29'>30</a>\u001b[0m     doc\u001b[39m.\u001b[39madd_paragraph(text)\n",
      "\u001b[1;32m/Users/nayeshagandotra/Desktop/india-election-stats/pdf_to_text.ipynb Cell 7\u001b[0m in \u001b[0;36m1\n\u001b[1;32m     <a href='vscode-notebook-cell:/Users/nayeshagandotra/Desktop/india-election-stats/pdf_to_text.ipynb#W5sZmlsZQ%3D%3D?line=12'>13</a>\u001b[0m         img_pil \u001b[39m=\u001b[39m page\u001b[39m.\u001b[39mto_image(resolution\u001b[39m=\u001b[39m\u001b[39m300\u001b[39m)\u001b[39m.\u001b[39moriginal  \u001b[39m# Convert PDF page to image\u001b[39;00m\n\u001b[1;32m     <a href='vscode-notebook-cell:/Users/nayeshagandotra/Desktop/india-election-stats/pdf_to_text.ipynb#W5sZmlsZQ%3D%3D?line=13'>14</a>\u001b[0m         \u001b[39m# img_pil = im.to_image()  # Convert pdfplumber Image to PIL Image\u001b[39;00m\n\u001b[0;32m---> <a href='vscode-notebook-cell:/Users/nayeshagandotra/Desktop/india-election-stats/pdf_to_text.ipynb#W5sZmlsZQ%3D%3D?line=14'>15</a>\u001b[0m         text \u001b[39m+\u001b[39m\u001b[39m=\u001b[39m pytesseract\u001b[39m.\u001b[39;49mimage_to_string(img_pil, lang\u001b[39m=\u001b[39;49m\u001b[39m'\u001b[39;49m\u001b[39meng\u001b[39;49m\u001b[39m'\u001b[39;49m)\n\u001b[1;32m     <a href='vscode-notebook-cell:/Users/nayeshagandotra/Desktop/india-election-stats/pdf_to_text.ipynb#W5sZmlsZQ%3D%3D?line=16'>17</a>\u001b[0m \u001b[39mreturn\u001b[39;00m text\n",
      "File \u001b[0;32m/Applications/miniconda3/lib/python3.9/site-packages/pytesseract/pytesseract.py:423\u001b[0m, in \u001b[0;36mimage_to_string\u001b[0;34m(image, lang, config, nice, output_type, timeout)\u001b[0m\n\u001b[1;32m    418\u001b[0m \u001b[39m\"\"\"\u001b[39;00m\n\u001b[1;32m    419\u001b[0m \u001b[39mReturns the result of a Tesseract OCR run on the provided image to string\u001b[39;00m\n\u001b[1;32m    420\u001b[0m \u001b[39m\"\"\"\u001b[39;00m\n\u001b[1;32m    421\u001b[0m args \u001b[39m=\u001b[39m [image, \u001b[39m'\u001b[39m\u001b[39mtxt\u001b[39m\u001b[39m'\u001b[39m, lang, config, nice, timeout]\n\u001b[0;32m--> 423\u001b[0m \u001b[39mreturn\u001b[39;00m {\n\u001b[1;32m    424\u001b[0m     Output\u001b[39m.\u001b[39;49mBYTES: \u001b[39mlambda\u001b[39;49;00m: run_and_get_output(\u001b[39m*\u001b[39;49m(args \u001b[39m+\u001b[39;49m [\u001b[39mTrue\u001b[39;49;00m])),\n\u001b[1;32m    425\u001b[0m     Output\u001b[39m.\u001b[39;49mDICT: \u001b[39mlambda\u001b[39;49;00m: {\u001b[39m'\u001b[39;49m\u001b[39mtext\u001b[39;49m\u001b[39m'\u001b[39;49m: run_and_get_output(\u001b[39m*\u001b[39;49margs)},\n\u001b[1;32m    426\u001b[0m     Output\u001b[39m.\u001b[39;49mSTRING: \u001b[39mlambda\u001b[39;49;00m: run_and_get_output(\u001b[39m*\u001b[39;49margs),\n\u001b[1;32m    427\u001b[0m }[output_type]()\n",
      "File \u001b[0;32m/Applications/miniconda3/lib/python3.9/site-packages/pytesseract/pytesseract.py:426\u001b[0m, in \u001b[0;36mimage_to_string.<locals>.<lambda>\u001b[0;34m()\u001b[0m\n\u001b[1;32m    418\u001b[0m \u001b[39m\"\"\"\u001b[39;00m\n\u001b[1;32m    419\u001b[0m \u001b[39mReturns the result of a Tesseract OCR run on the provided image to string\u001b[39;00m\n\u001b[1;32m    420\u001b[0m \u001b[39m\"\"\"\u001b[39;00m\n\u001b[1;32m    421\u001b[0m args \u001b[39m=\u001b[39m [image, \u001b[39m'\u001b[39m\u001b[39mtxt\u001b[39m\u001b[39m'\u001b[39m, lang, config, nice, timeout]\n\u001b[1;32m    423\u001b[0m \u001b[39mreturn\u001b[39;00m {\n\u001b[1;32m    424\u001b[0m     Output\u001b[39m.\u001b[39mBYTES: \u001b[39mlambda\u001b[39;00m: run_and_get_output(\u001b[39m*\u001b[39m(args \u001b[39m+\u001b[39m [\u001b[39mTrue\u001b[39;00m])),\n\u001b[1;32m    425\u001b[0m     Output\u001b[39m.\u001b[39mDICT: \u001b[39mlambda\u001b[39;00m: {\u001b[39m'\u001b[39m\u001b[39mtext\u001b[39m\u001b[39m'\u001b[39m: run_and_get_output(\u001b[39m*\u001b[39margs)},\n\u001b[0;32m--> 426\u001b[0m     Output\u001b[39m.\u001b[39mSTRING: \u001b[39mlambda\u001b[39;00m: run_and_get_output(\u001b[39m*\u001b[39;49margs),\n\u001b[1;32m    427\u001b[0m }[output_type]()\n",
      "File \u001b[0;32m/Applications/miniconda3/lib/python3.9/site-packages/pytesseract/pytesseract.py:288\u001b[0m, in \u001b[0;36mrun_and_get_output\u001b[0;34m(image, extension, lang, config, nice, timeout, return_bytes)\u001b[0m\n\u001b[1;32m    277\u001b[0m \u001b[39mwith\u001b[39;00m save(image) \u001b[39mas\u001b[39;00m (temp_name, input_filename):\n\u001b[1;32m    278\u001b[0m     kwargs \u001b[39m=\u001b[39m {\n\u001b[1;32m    279\u001b[0m         \u001b[39m'\u001b[39m\u001b[39minput_filename\u001b[39m\u001b[39m'\u001b[39m: input_filename,\n\u001b[1;32m    280\u001b[0m         \u001b[39m'\u001b[39m\u001b[39moutput_filename_base\u001b[39m\u001b[39m'\u001b[39m: temp_name,\n\u001b[0;32m   (...)\u001b[0m\n\u001b[1;32m    285\u001b[0m         \u001b[39m'\u001b[39m\u001b[39mtimeout\u001b[39m\u001b[39m'\u001b[39m: timeout,\n\u001b[1;32m    286\u001b[0m     }\n\u001b[0;32m--> 288\u001b[0m     run_tesseract(\u001b[39m*\u001b[39;49m\u001b[39m*\u001b[39;49mkwargs)\n\u001b[1;32m    289\u001b[0m     filename \u001b[39m=\u001b[39m \u001b[39mf\u001b[39m\u001b[39m\"\u001b[39m\u001b[39m{\u001b[39;00mkwargs[\u001b[39m'\u001b[39m\u001b[39moutput_filename_base\u001b[39m\u001b[39m'\u001b[39m]\u001b[39m}\u001b[39;00m\u001b[39m{\u001b[39;00mextsep\u001b[39m}\u001b[39;00m\u001b[39m{\u001b[39;00mextension\u001b[39m}\u001b[39;00m\u001b[39m\"\u001b[39m\n\u001b[1;32m    290\u001b[0m     \u001b[39mwith\u001b[39;00m \u001b[39mopen\u001b[39m(filename, \u001b[39m'\u001b[39m\u001b[39mrb\u001b[39m\u001b[39m'\u001b[39m) \u001b[39mas\u001b[39;00m output_file:\n",
      "File \u001b[0;32m/Applications/miniconda3/lib/python3.9/site-packages/pytesseract/pytesseract.py:260\u001b[0m, in \u001b[0;36mrun_tesseract\u001b[0;34m(input_filename, output_filename_base, extension, lang, config, nice, timeout)\u001b[0m\n\u001b[1;32m    258\u001b[0m         \u001b[39mraise\u001b[39;00m\n\u001b[1;32m    259\u001b[0m     \u001b[39melse\u001b[39;00m:\n\u001b[0;32m--> 260\u001b[0m         \u001b[39mraise\u001b[39;00m TesseractNotFoundError()\n\u001b[1;32m    262\u001b[0m \u001b[39mwith\u001b[39;00m timeout_manager(proc, timeout) \u001b[39mas\u001b[39;00m error_string:\n\u001b[1;32m    263\u001b[0m     \u001b[39mif\u001b[39;00m proc\u001b[39m.\u001b[39mreturncode:\n",
      "\u001b[0;31mTesseractNotFoundError\u001b[0m: C:\\\\Applications\\\\miniconda3\\\\lib\\\\python3.9\\\\site-packages\\\\pytesseract is not installed or it's not in your PATH. See README file for more information."
     ]
    }
   ],
   "source": [
    "# run function for extracting text from scanned images\n",
    "convert_scanned_pdf_to_text(input_directory)\n",
    "# output_doc.save(output_directory)"
   ]
  }
 ],
 "metadata": {
  "kernelspec": {
   "display_name": "base",
   "language": "python",
   "name": "python3"
  },
  "language_info": {
   "codemirror_mode": {
    "name": "ipython",
    "version": 3
   },
   "file_extension": ".py",
   "mimetype": "text/x-python",
   "name": "python",
   "nbconvert_exporter": "python",
   "pygments_lexer": "ipython3",
   "version": "3.9.12"
  },
  "orig_nbformat": 4
 },
 "nbformat": 4,
 "nbformat_minor": 2
}
