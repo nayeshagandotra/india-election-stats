{
 "cells": [
  {
   "cell_type": "code",
   "execution_count": 1,
   "metadata": {},
   "outputs": [],
   "source": [
    "import pdfplumber\n",
    "import pandas as pd\n",
    "import re\n",
    "import os"
   ]
  },
  {
   "cell_type": "code",
   "execution_count": 17,
   "metadata": {},
   "outputs": [],
   "source": [
    "def extract_data_from_pdf(pdf_path):\n",
    "    data = []\n",
    "    year = re.findall(r'\\d+', pdf_path)[0]  # Extract the year from the filename or path\n",
    "\n",
    "    with pdfplumber.open(pdf_path) as pdf:\n",
    "        for page in pdf.pages:\n",
    "            text = page.extract_text()\n",
    "            state_pattern = re.compile(r'(.+?) Lok Sabha Result \\d+')\n",
    "            seat_pattern = re.compile(r'Total Seats:\\s+\\d+')\n",
    "            party_performance_pattern = re.compile(r'([A-Za-z0-9\\+\\s]+)\\s+\\d+\\s+\\d+\\s+([0-9\\.]+)')\n",
    "\n",
    "            state = re.search(state_pattern, text)\n",
    "\n",
    "            # DEBUG:\n",
    "            # print(f\"{state}\")\n",
    "\n",
    "            if state:\n",
    "                state_name = state.group(1).strip()\n",
    "            else:\n",
    "                state_name = 'Unknown'\n",
    "\n",
    "            seat_match = re.search(seat_pattern, text)\n",
    "            if seat_match:\n",
    "                total_seats = int(re.findall(r'\\d+', seat_match.group())[0])\n",
    "            else:\n",
    "                total_seats = 0\n",
    "\n",
    "            party_data = []\n",
    "            for line in text.split('\\n'):\n",
    "                match = party_performance_pattern.search(line)\n",
    "                if match:\n",
    "                    party_name = match.group(1).strip()\n",
    "                    seats_won = int(re.findall(r'\\d+', match.group())[1])\n",
    "                    vote_percent = float(match.group(2).strip())\n",
    "                    if vote_percent < 100.0:  # Ignore 100% vote percentages\n",
    "                        party_data.append((party_name, seats_won, vote_percent))\n",
    "\n",
    "            if party_data:\n",
    "                winning_party = max(party_data, key=lambda x: x[2])\n",
    "                data.append({\n",
    "                    'Year': year,\n",
    "                    'State': state_name,\n",
    "                    'Winning Party': winning_party[0],\n",
    "                    'Vote %': winning_party[2],\n",
    "                    'Seats Won by Majority Party': winning_party[1],\n",
    "                    'Total Seats': total_seats\n",
    "                })\n",
    "\n",
    "    return data"
   ]
  },
  {
   "cell_type": "code",
   "execution_count": 13,
   "metadata": {},
   "outputs": [],
   "source": [
    "def save_data_to_csv(data, output_path):\n",
    "    df = pd.DataFrame(data)\n",
    "    df.to_csv(output_path, index=False)"
   ]
  },
  {
   "cell_type": "code",
   "execution_count": 18,
   "metadata": {},
   "outputs": [
    {
     "name": "stdout",
     "output_type": "stream",
     "text": [
      "2009_result_by_state.pdf\n",
      "Data for 2009_result_by_state.pdf has been exported to /Users/nayeshagandotra/Desktop/india-election-stats/csv_files/2009_summary.csv\n",
      "2014_result_by_state.pdf\n",
      "Data for 2014_result_by_state.pdf has been exported to /Users/nayeshagandotra/Desktop/india-election-stats/csv_files/2014_summary.csv\n",
      "2019_result_by_state.pdf\n",
      "Data for 2019_result_by_state.pdf has been exported to /Users/nayeshagandotra/Desktop/india-election-stats/csv_files/2019_summary.csv\n",
      "1999_result_by_state.pdf\n",
      "Data for 1999_result_by_state.pdf has been exported to /Users/nayeshagandotra/Desktop/india-election-stats/csv_files/1999_summary.csv\n",
      "2004_result_by_state.pdf\n",
      "Data for 2004_result_by_state.pdf has been exported to /Users/nayeshagandotra/Desktop/india-election-stats/csv_files/2004_summary.csv\n"
     ]
    }
   ],
   "source": [
    "cwd = os.getcwd()\n",
    "\n",
    "input_directory = cwd + '/pdf_files'  # Replace with your PDF folder path\n",
    "output_directory = cwd + '/csv_files'  # Replace with your output folder path\n",
    "\n",
    "if not os.path.exists(output_directory):\n",
    "    os.makedirs(output_directory)\n",
    "\n",
    "for filename in os.listdir(input_directory):\n",
    "    if filename.endswith('.pdf'):\n",
    "        # debug\n",
    "        print(f\"{filename}\")\n",
    "\n",
    "        pdf_path = os.path.join(input_directory, filename)\n",
    "        data = extract_data_from_pdf(pdf_path)\n",
    "        year = re.findall(r'\\d+', filename)[0]  # Extract the year from the filename\n",
    "        output_filename = f\"{year}_summary.csv\"\n",
    "        output_path = os.path.join(output_directory, output_filename)\n",
    "        save_data_to_csv(data, output_path)\n",
    "        print(f\"Data for {filename} has been exported to {output_path}\")"
   ]
  },
  {
   "cell_type": "code",
   "execution_count": 19,
   "metadata": {},
   "outputs": [
    {
     "name": "stdout",
     "output_type": "stream",
     "text": [
      "File: 2019_summary.csv, Final number of rows: 36\n",
      "File: 2009_summary.csv, Final number of rows: 35\n",
      "File: 1999_summary.csv, Final number of rows: 32\n",
      "File: 2014_summary.csv, Final number of rows: 36\n",
      "File: 2004_summary.csv, Final number of rows: 35\n"
     ]
    }
   ],
   "source": [
    "for filename in os.listdir(output_directory):\n",
    "        if filename.endswith('.csv'):\n",
    "            csv_path = os.path.join(output_directory, filename)\n",
    "            df = pd.read_csv(csv_path)\n",
    "\n",
    "            # Remove rows where 'State' is 'Unknown'\n",
    "            df_cleaned = df[df['State'] != 'Unknown']\n",
    "\n",
    "            # Save the cleaned DataFrame back to the same CSV file\n",
    "            df_cleaned.to_csv(csv_path, index=False)\n",
    "\n",
    "            # Print the final number of rows in the cleaned CSV file\n",
    "            print(f\"File: {filename}, Final number of rows: {len(df_cleaned)}\")\n"
   ]
  }
 ],
 "metadata": {
  "kernelspec": {
   "display_name": "base",
   "language": "python",
   "name": "python3"
  },
  "language_info": {
   "codemirror_mode": {
    "name": "ipython",
    "version": 3
   },
   "file_extension": ".py",
   "mimetype": "text/x-python",
   "name": "python",
   "nbconvert_exporter": "python",
   "pygments_lexer": "ipython3",
   "version": "3.9.12"
  },
  "orig_nbformat": 4
 },
 "nbformat": 4,
 "nbformat_minor": 2
}
