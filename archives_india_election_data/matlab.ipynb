{
 "cells": [
  {
   "cell_type": "code",
   "execution_count": 1,
   "metadata": {},
   "outputs": [],
   "source": [
    "import bms\n",
    "import numpy as np\n",
    "import matplotlib.pyplot as plt\n"
   ]
  },
  {
   "cell_type": "code",
   "execution_count": 2,
   "metadata": {},
   "outputs": [
    {
     "ename": "AttributeError",
     "evalue": "module 'bms' has no attribute 'tf'",
     "output_type": "error",
     "traceback": [
      "\u001b[0;31m---------------------------------------------------------------------------\u001b[0m",
      "\u001b[0;31mAttributeError\u001b[0m                            Traceback (most recent call last)",
      "\u001b[1;32m/Users/nayeshagandotra/Desktop/india-election-stats/matlab.ipynb Cell 2\u001b[0m in \u001b[0;36m7\n\u001b[1;32m      <a href='vscode-notebook-cell:/Users/nayeshagandotra/Desktop/india-election-stats/matlab.ipynb#W1sZmlsZQ%3D%3D?line=3'>4</a>\u001b[0m denominator \u001b[39m=\u001b[39m [\u001b[39m1\u001b[39m, \u001b[39m6\u001b[39m, \u001b[39m8\u001b[39m]\n\u001b[1;32m      <a href='vscode-notebook-cell:/Users/nayeshagandotra/Desktop/india-election-stats/matlab.ipynb#W1sZmlsZQ%3D%3D?line=5'>6</a>\u001b[0m \u001b[39m# Create the transfer function using bms\u001b[39;00m\n\u001b[0;32m----> <a href='vscode-notebook-cell:/Users/nayeshagandotra/Desktop/india-election-stats/matlab.ipynb#W1sZmlsZQ%3D%3D?line=6'>7</a>\u001b[0m system \u001b[39m=\u001b[39m bms\u001b[39m.\u001b[39;49mtf(numerator, denominator)\n\u001b[1;32m      <a href='vscode-notebook-cell:/Users/nayeshagandotra/Desktop/india-election-stats/matlab.ipynb#W1sZmlsZQ%3D%3D?line=8'>9</a>\u001b[0m \u001b[39m# Define time range for the response\u001b[39;00m\n\u001b[1;32m     <a href='vscode-notebook-cell:/Users/nayeshagandotra/Desktop/india-election-stats/matlab.ipynb#W1sZmlsZQ%3D%3D?line=9'>10</a>\u001b[0m t \u001b[39m=\u001b[39m np\u001b[39m.\u001b[39mlinspace(\u001b[39m0\u001b[39m, \u001b[39m10\u001b[39m, \u001b[39m1000\u001b[39m)  \u001b[39m# 0 to 10 seconds, 1000 points\u001b[39;00m\n",
      "\u001b[0;31mAttributeError\u001b[0m: module 'bms' has no attribute 'tf'"
     ]
    }
   ],
   "source": [
    "# Define the transfer function components\n",
    "K = 1  # You can change K to any desired value\n",
    "numerator = [K, -4*K, 20*K]\n",
    "denominator = [1, 6, 8]\n",
    "\n",
    "# Create the transfer function using bms\n",
    "system = bms.tf(numerator, denominator)\n",
    "\n",
    "# Define time range for the response\n",
    "t = np.linspace(0, 10, 1000)  # 0 to 10 seconds, 1000 points\n",
    "\n",
    "# Get the step response\n",
    "t, y = bms.step(system, t)\n"
   ]
  },
  {
   "cell_type": "code",
   "execution_count": null,
   "metadata": {},
   "outputs": [],
   "source": [
    "# Plot the response\n",
    "plt.figure(figsize=(10, 6))\n",
    "plt.plot(t, y)\n",
    "plt.title('Step Response of the Transfer Function')\n",
    "plt.xlabel('Time [s]')\n",
    "plt.ylabel('Response')\n",
    "plt.grid(True)\n",
    "plt.show()"
   ]
  }
 ],
 "metadata": {
  "kernelspec": {
   "display_name": "base",
   "language": "python",
   "name": "python3"
  },
  "language_info": {
   "codemirror_mode": {
    "name": "ipython",
    "version": 3
   },
   "file_extension": ".py",
   "mimetype": "text/x-python",
   "name": "python",
   "nbconvert_exporter": "python",
   "pygments_lexer": "ipython3",
   "version": "3.9.12"
  },
  "orig_nbformat": 4
 },
 "nbformat": 4,
 "nbformat_minor": 2
}
